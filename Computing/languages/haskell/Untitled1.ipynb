{
 "cells": [
  {
   "cell_type": "markdown",
   "metadata": {},
   "source": [
    "# Haskell Programming from first principles\n",
    "---"
   ]
  },
  {
   "cell_type": "markdown",
   "metadata": {},
   "source": [
    "- The order of declarations doesnt matter because GHCi loads the entire file at once\n",
    "- Module names are capitalised\n",
    "- The ($) will allow everything to the right of it to be evaluated first as so can be used to delay function application "
   ]
  },
  {
   "cell_type": "code",
   "execution_count": 2,
   "metadata": {},
   "outputs": [
    {
     "ename": "",
     "evalue": "",
     "header": "MessageHeader {mhIdentifiers = [\"a87ab0e6-408c-4f26-a913-b60fbbf81fb8\"], mhParentHeader = Just (MessageHeader {mhIdentifiers = [\"a87ab0e6-408c-4f26-a913-b60fbbf81fb8\"], mhParentHeader = Nothing, mhMetadata = Metadata (fromList [(\"recordTiming\",Bool False),(\"deletedCells\",Array []),(\"cellId\",String \"5f68c978-5d63-4713-a271-5c32a3e37e69\")]), mhMessageId = UUID {uuidToString = \"480c9ef8-abd4-4e1e-ba65-9b1fece5505d\"}, mhSessionId = UUID {uuidToString = \"a87ab0e6-408c-4f26-a913-b60fbbf81fb8\"}, mhUsername = \"\", mhMsgType = ExecuteRequestMessage}), mhMetadata = Metadata (fromList []), mhMessageId = UUID {uuidToString = \"c9666cdc-56f2-4f48-88f7-bc0a83b72ee8\"}, mhSessionId = UUID {uuidToString = \"a87ab0e6-408c-4f26-a913-b60fbbf81fb8\"}, mhUsername = \"\", mhMsgType = ExecuteErrorMessage}",
     "output_type": "error",
     "traceback": [
      "<interactive>:1:1: error:\n    • Non type-variable argument in the constraint: Num ((a -> a) -> t)\n      (Use FlexibleContexts to permit this)\n    • When checking the inferred type\n        it :: forall a t. (Num a, Num ((a -> a) -> t)) => t"
     ]
    }
   ],
   "source": [
    "4 (*30) -- can't apply 4 as a function to the argument (*30)"
   ]
  },
  {
   "cell_type": "code",
   "execution_count": 3,
   "metadata": {},
   "outputs": [
    {
     "ename": "",
     "evalue": "",
     "header": "MessageHeader {mhIdentifiers = [\"a87ab0e6-408c-4f26-a913-b60fbbf81fb8\"], mhParentHeader = Just (MessageHeader {mhIdentifiers = [\"a87ab0e6-408c-4f26-a913-b60fbbf81fb8\"], mhParentHeader = Nothing, mhMetadata = Metadata (fromList [(\"recordTiming\",Bool False),(\"deletedCells\",Array []),(\"cellId\",String \"47571b61-86c5-469b-bba3-4b2107f82b98\")]), mhMessageId = UUID {uuidToString = \"46f4c23f-e918-4949-9659-ae1f18bd9159\"}, mhSessionId = UUID {uuidToString = \"a87ab0e6-408c-4f26-a913-b60fbbf81fb8\"}, mhUsername = \"\", mhMsgType = ExecuteRequestMessage}), mhMetadata = Metadata (fromList []), mhMessageId = UUID {uuidToString = \"3ff71b32-4706-46b5-9c4b-e454dc05ebf9\"}, mhSessionId = UUID {uuidToString = \"a87ab0e6-408c-4f26-a913-b60fbbf81fb8\"}, mhUsername = \"\", mhMsgType = ExecuteErrorMessage}",
     "output_type": "error",
     "traceback": [
      "<interactive>:1:1: error:\n    • Non type-variable argument in the constraint: Num (t1 -> t2)\n      (Use FlexibleContexts to permit this)\n    • When checking the inferred type\n        it :: forall t1 t2. (Num t1, Num (t1 -> t2)) => t2"
     ]
    }
   ],
   "source": [
    "(-2) 1 -- subtractions special case that wont work"
   ]
  },
  {
   "cell_type": "markdown",
   "metadata": {},
   "source": [
    "`let`: introduces and *expresion* so can be used anywhere you can have an expresion\n",
    "\n",
    "`where`: is a *declaratoin* and is bound to a surrounding syntactic construct\n",
    "\n",
    "`::`: read as \"has the type\""
   ]
  },
  {
   "cell_type": "code",
   "execution_count": null,
   "metadata": {},
   "outputs": [],
   "source": []
  }
 ],
 "metadata": {
  "kernelspec": {
   "display_name": "Haskell",
   "language": "haskell",
   "name": "haskell"
  },
  "language_info": {
   "codemirror_mode": "ihaskell",
   "file_extension": ".hs",
   "name": "haskell",
   "pygments_lexer": "Haskell",
   "version": "8.6.5"
  }
 },
 "nbformat": 4,
 "nbformat_minor": 4
}
