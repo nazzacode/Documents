{
 "cells": [
  {
   "cell_type": "markdown",
   "metadata": {},
   "source": [
    "# LYAH Chapter 1 - Types & Typeclass\n"
   ]
  },
  {
   "cell_type": "markdown",
   "metadata": {},
   "source": [
    "### Explicit Types\n",
    "___\n",
    "Type | Description\n",
    "---| :---:\n",
    "Int | integer number (bounded by 32 bit machines to 2^31)\n",
    "Integer | also integer but unbounded to represent large numbers  \n",
    "Float | Real floating point number   \n",
    "Double | real floating point number with double the precision  \n",
    "Char | character ('' sing quotes) an list is called a string  \n",
    "Bool | boolean   \n",
    "Tuples |infinate number of tuple types  \n",
    "\n",
    "\n",
    ":t to print the typeclass of an expression"
   ]
  },
  {
   "cell_type": "markdown",
   "metadata": {},
   "source": [
    "Functions also have types, when writing them its good practice to give them an explicit type declaration:\n"
   ]
  },
  {
   "cell_type": "code",
   "execution_count": 3,
   "metadata": {},
   "outputs": [
    {
     "data": {
      "text/plain": [
       "18"
      ]
     },
     "metadata": {},
     "output_type": "display_data"
    }
   ],
   "source": [
    "addThree :: Int -> Int -> Int -> Int\n",
    "addThree x y z = x + y + z\n",
    "\n",
    "addThree 3 6 9"
   ]
  },
  {
   "cell_type": "markdown",
   "metadata": {},
   "source": [
    "### TypeClass\n",
    "___\n",
    "\n",
    "A typeclass is an interface that defines some behavior. If a type is part of a typeclass, that means that it supports and implements the behavior the typeclass describes\n",
    "\n",
    "|Typeclass   | Description   |\n",
    "|:-:         |:-:|\n",
    "|Eq          |supports equality testing   |\n",
    "|Ord         |has ordering   |\n",
    "|Show        |can be presented as string   |\n",
    "|Read        |takes a string and returns a type   |\n",
    "|Enum        |sequentially ordered types   |\n",
    "|Bounded     |have an upper and lower bound   |\n",
    "|Num         | can act like a number\n"
   ]
  },
  {
   "cell_type": "code",
   "execution_count": 7,
   "metadata": {},
   "outputs": [
    {
     "data": {
      "text/plain": [
       "GT"
      ]
     },
     "metadata": {},
     "output_type": "display_data"
    }
   ],
   "source": [
    "5 `compare` 3 -- (Ord)"
   ]
  },
  {
   "cell_type": "code",
   "execution_count": 8,
   "metadata": {},
   "outputs": [
    {
     "data": {
      "text/plain": [
       "12.0"
      ]
     },
     "metadata": {},
     "output_type": "display_data"
    }
   ],
   "source": [
    "read \"8.2\" + 3.8 -- (read)"
   ]
  },
  {
   "cell_type": "code",
   "execution_count": 14,
   "metadata": {},
   "outputs": [
    {
     "data": {
      "text/plain": [
       "7.2"
      ]
     },
     "metadata": {},
     "output_type": "display_data"
    }
   ],
   "source": [
    "fromIntegral (length[1,2,3,4]) + 3.2  -- important!!"
   ]
  },
  {
   "cell_type": "code",
   "execution_count": null,
   "metadata": {},
   "outputs": [],
   "source": []
  }
 ],
 "metadata": {
  "kernelspec": {
   "display_name": "Haskell",
   "language": "haskell",
   "name": "haskell"
  },
  "language_info": {
   "codemirror_mode": "ihaskell",
   "file_extension": ".hs",
   "name": "haskell",
   "pygments_lexer": "Haskell",
   "version": "8.6.5"
  }
 },
 "nbformat": 4,
 "nbformat_minor": 2
}
