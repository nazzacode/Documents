{
 "cells": [
  {
   "cell_type": "markdown",
   "metadata": {},
   "source": [
    "# Week 1"
   ]
  },
  {
   "cell_type": "markdown",
   "metadata": {},
   "source": [
    "**Fast Algorithm:** worst-case running time grows slowly with input time (hold grail is linear time)"
   ]
  },
  {
   "cell_type": "markdown",
   "metadata": {},
   "source": [
    "## Merge Sort "
   ]
  },
  {
   "cell_type": "markdown",
   "metadata": {},
   "source": [
    "**Divide and Conquer:** breaking a problem into smaller sub-problems which you solve recursivly and combine in some way to solve the original problem."
   ]
  },
  {
   "cell_type": "code",
   "execution_count": 9,
   "metadata": {},
   "outputs": [
    {
     "data": {
      "text/plain": [
       "[1,2,3,4,5]"
      ]
     },
     "metadata": {},
     "output_type": "display_data"
    }
   ],
   "source": [
    "mergeSort :: Ord a => [a] -> [a]\n",
    "mergeSort []  = []\n",
    "mergeSort [a] = [a]\n",
    "mergeSort xs  = merge (mergeSort firstHalf) (mergeSort secondHalf)\n",
    "  where  firstHalf   = take half xs\n",
    "         secondHalf  = drop half xs\n",
    "         half        = length xs `div` 2\n",
    "\n",
    "merge :: Ord a => [a] -> [a] -> [a]\n",
    "merge xs [] = xs\n",
    "merge [] ys = ys\n",
    "merge (x:xs) (y:ys) | x < y     = x:merge xs (y:ys)\n",
    "                    | otherwise = y:merge (x:xs) ys\n",
    "\n",
    "mergeSort [3,1,4,5,2]"
   ]
  },
  {
   "cell_type": "markdown",
   "metadata": {},
   "source": [
    "### Analysis"
   ]
  },
  {
   "cell_type": "markdown",
   "metadata": {},
   "source": [
    "*Mergesort runs in:* $\\mathcal{O} (n \\log n)$\n",
    "\n",
    "**Justification**\n",
    "- there are $log_2 n + 1$ levels (consider $n = 2^x$)\n",
    "- each level $j$ has $2^{j}$ subproblems of size $ \\frac{n}{2^{j}}$\n",
    "- hence upper bound of work on any level is independent of level as factors cancel\n",
    "- merge operation on each level runs in linear time (n)\n",
    "- so total work runs in $\\mathcal{O}(n \\log n)$"
   ]
  },
  {
   "cell_type": "markdown",
   "metadata": {},
   "source": [
    "## Asymptotic Analysis"
   ]
  },
  {
   "cell_type": "markdown",
   "metadata": {},
   "source": [
    "*The high level idea is to supress constant factors and lower-order terms.*"
   ]
  },
  {
   "cell_type": "markdown",
   "metadata": {},
   "source": [
    "### Big-Oh Notation "
   ]
  },
  {
   "cell_type": "markdown",
   "metadata": {},
   "source": [
    "*The high level idea is that eventually (for sufficiently large n), the runtime $T(n)$ will be bounded above by a constant multiple of $f(n)$*  \n",
    "**Big-Oh:** $T(n) = \\mathcal{O}(f(n))$ iff there exists constants $c$, $n_{0} < 0$ such that $T(n) \\geq c \\cdot f(n) \\quad \\forall n \\geq n_{0}$"
   ]
  },
  {
   "cell_type": "code",
   "execution_count": null,
   "metadata": {},
   "outputs": [],
   "source": []
  }
 ],
 "metadata": {
  "kernelspec": {
   "display_name": "Haskell - haskell",
   "language": "haskell",
   "name": "ihaskell_haskell"
  },
  "language_info": {
   "codemirror_mode": "ihaskell",
   "file_extension": ".hs",
   "mimetype": "text/x-haskell",
   "name": "haskell",
   "pygments_lexer": "Haskell",
   "version": "8.8.3"
  }
 },
 "nbformat": 4,
 "nbformat_minor": 4
}
