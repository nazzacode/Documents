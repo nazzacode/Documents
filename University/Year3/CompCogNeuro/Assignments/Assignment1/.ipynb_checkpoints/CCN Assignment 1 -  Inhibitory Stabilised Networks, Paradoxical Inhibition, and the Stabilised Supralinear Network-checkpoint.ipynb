{
 "cells": [
  {
   "cell_type": "markdown",
   "metadata": {},
   "source": [
    "# Inhibitory-Stabilised Network (ISN) and Paradoxical Inhibition (50 marks)"
   ]
  },
  {
   "cell_type": "markdown",
   "metadata": {},
   "source": [
    "- paradoxical inhibition (Tsodyks et al. 1997)?\n",
    "\n",
    "Tsodyks et al. (1997) linear model:\n",
    "\n",
    "\\begin{equation}\n",
    "\\tau_E \\frac{dr_E}{dt} = -r_E + \\beta ( W_{EE}r_E - W_{EI}r_I + u_E)\n",
    "\\end{equation}\n",
    "\n",
    "\\begin{equation}\n",
    "\\tau_I \\frac{dr_I}{dt} = -r_I + \\beta ( W_{IE}r_E - W_{II}r_I + u_I)\n",
    "\\end{equation}\n",
    "\n",
    "where, \n",
    "- $E$ : excitatory\n",
    "- $I$ : inhibitory\n",
    "- $\\beta$(x) : response function, the proportions of cells firing in the two populations of a given level of input activity $x$\n",
    "- $x$ in $\\beta(x)$ : input activity\n",
    "- $W$ parameters : strength of the interactions in the model\n",
    "    + $W_{ee}$ : product of the average number of recurrent excitatory contacts per cell and the average postsynaptic current attributable to one presynapptic action potential on the postsynaptic cell.\n",
    "- $\\tau_x$ : constants that describe time needed to bring neurons to firing as they recieve subthreshold excitation; comparable to the membreane time constants of these neurons (~10-20ms\n",
    "- $u_x$ : the average external input to the inhibitory population\n",
    "\n",
    "Setting variables as per the assignment spec,"
   ]
  },
  {
   "cell_type": "code",
   "execution_count": 1,
   "metadata": {},
   "outputs": [
    {
     "data": {
      "text/plain": [
       "ISN"
      ]
     },
     "execution_count": 1,
     "metadata": {},
     "output_type": "execute_result"
    }
   ],
   "source": [
    "# -- Define our Inhibitory-Stabilised Network (ISN) --\n",
    "\n",
    "Base.@kwdef mutable struct ISN\n",
    "    # label immutable?\n",
    "    τₑ  ::Float64 = 10\n",
    "    τᵢ  ::Float64 = 10\n",
    "    rₑ  ::Float64 = 0    \n",
    "    rᵢ  ::Float64 = 0     \n",
    "    β   ::Float64 = 1 \n",
    "    Wₑᵢ ::Float64 = 1.8\n",
    "    Wᵢₑ ::Float64 = 1.8  \n",
    "    Wᵢᵢ ::Float64 = 1\n",
    "    net1_flg = true\n",
    "    Wₑₑ ::Float64 = net1_flg ? 0.5 : 1.5\n",
    "    uₑ  ::Float64 = 1\n",
    "    uᵢ  ::Float64 = 1\n",
    "end"
   ]
  },
  {
   "cell_type": "markdown",
   "metadata": {},
   "source": [
    "## Comment on the biological relevance of the model given by equations (1,2) - how would you interpret the various terms in the equations?  Describe some of the most obvious ways in which the model could be considered biologically unrealistic. Why might one choose to study a model such as this rather than a more biologically realistic one? (7 marks)"
   ]
  },
  {
   "cell_type": "markdown",
   "metadata": {},
   "source": [
    "### Biological Relevance/Isomorphism of ISN "
   ]
  },
  {
   "cell_type": "markdown",
   "metadata": {},
   "source": [
    "The biological relevance of the model..."
   ]
  },
  {
   "cell_type": "markdown",
   "metadata": {},
   "source": [
    "### Biological Limitations of ISN"
   ]
  },
  {
   "cell_type": "markdown",
   "metadata": {},
   "source": [
    "One way that our ISN model is biologically unrealistic is..."
   ]
  },
  {
   "cell_type": "markdown",
   "metadata": {},
   "source": [
    "### Advantages of ISN over more Biologically Realistic Models"
   ]
  },
  {
   "cell_type": "markdown",
   "metadata": {},
   "source": [
    "The following Arguments can be made for the advantages of ISN over more biologically realistic models:\n",
    "\n",
    "- *Homomorphism > Isomorphism*: its only the 'important' functionality that we want to map. Biological realism is not the goal, functional approximation is.\n",
    "- *occams razor*: we want minimally simple models capable of explaining important phenomenon. Biologically realism will require massive amounts of redundant computation for any specific project short of full biological emulation\n",
    "- *interpretability*: we want models that are easily interpretable to humans.\n",
    "\n",
    "*Conclusion*: Biology is massively complex at multiple levels of analysis (many of which will be beyond the scope of a specific investigation) and making progress in human understanding requires *dimensionality reduction*"
   ]
  },
  {
   "cell_type": "markdown",
   "metadata": {},
   "source": [
    "## Consider Network 1, and set $u_E = 1$, $u_I = 1$. Simulate equations (1,2) for $N_t = 500$ time steps (i.e., 500ms real time). Plot $r_e$ and $r_I$ as a function of time. (5 marks)"
   ]
  },
  {
   "cell_type": "markdown",
   "metadata": {},
   "source": [
    "TO REMOVE!!! \n",
    "Tsodyks et al. (1997) linear model:\n",
    "\n",
    "\\begin{equation}\n",
    "\\tau_E \\frac{dr_E}{dt} = -r_E + \\beta ( W_{EE^rE} - W_{EI^rI} + u_E)\n",
    "\\end{equation}\n",
    "\n",
    "\\begin{equation}\n",
    "\\tau_I \\frac{dr_I}{dt} = -r_I + \\beta ( W_{IE^rE} - W_{II^rI} + u_I)\n",
    "\\end{equation}"
   ]
  },
  {
   "cell_type": "code",
   "execution_count": 2,
   "metadata": {},
   "outputs": [
    {
     "data": {
      "text/plain": [
       "step! (generic function with 1 method)"
      ]
     },
     "execution_count": 2,
     "metadata": {},
     "output_type": "execute_result"
    }
   ],
   "source": [
    "# -- Translating equations (1,2) to julia code --\n",
    "\n",
    "# TODO docstring\n",
    "function step!(n::ISN)\n",
    "    ∂rₑ = (-n.rₑ + n.β((n.Wₑₑ*n.rₑ) - (n.Wₑᵢ*n.rᵢ) + n.uₑ)) / n.τₑ;  n.rₑ += ∂rₑ\n",
    "    ∂rᵢ = (-n.rᵢ + n.β((n.Wᵢₑ*n.rₑ) - (n.Wᵢᵢ*n.rᵢ) + n.uᵢ)) / n.τᵢ;  n.rᵢ += ∂rᵢ\n",
    "end"
   ]
  },
  {
   "cell_type": "code",
   "execution_count": 3,
   "metadata": {},
   "outputs": [
    {
     "ename": "LoadError",
     "evalue": "UndefVarError: net1_flg not defined",
     "output_type": "error",
     "traceback": [
      "UndefVarError: net1_flg not defined",
      "",
      "Stacktrace:",
      " [1] ISN() at ./util.jl:438",
      " [2] top-level scope at In[3]:9"
     ]
    }
   ],
   "source": [
    "# -- Simulating equations (1,2) for Nₜ= 500 --\n",
    "\n",
    "using Plots\n",
    "\n",
    "Nₜ = 500  # num iterations\n",
    "\n",
    "x = 1:Nₜ; rₑ = zeros(Nₜ); rᵢ = zeros(Nₜ)\n",
    "\n",
    "n = ISN()\n",
    "\n",
    "for i=1:Nₜ\n",
    "    step!(n)\n",
    "    rₑ[i] = n.rₑ\n",
    "    rᵢ[i] = n.rᵢ\n",
    "end \n",
    "\n",
    "plot(x, n.rₑ, title=\"My First Graph\")\n",
    "    \n",
    "    "
   ]
  },
  {
   "cell_type": "code",
   "execution_count": 3,
   "metadata": {},
   "outputs": [],
   "source": [
    "# -- Plotting rₑ and rᵢ as a function of time --"
   ]
  },
  {
   "cell_type": "markdown",
   "metadata": {},
   "source": [
    "## Repeat this simulation, this time increasing $u_{I}$ after 500 time steps and simulating for a further 500 time steps at the new value ($N_t = 1000$ in total, with $u_I = 1$ for the first 500 steps and $u_I = 2$ for the second 500 steps). Plot $r_E$ and $r_I$ as a function of time. Comment on what you observe. (5 marks)"
   ]
  },
  {
   "cell_type": "code",
   "execution_count": null,
   "metadata": {},
   "outputs": [],
   "source": [
    "# -- Simulating equations (1,2) for Nₜ=1000, uᵢ= Nₜ<501 ? 1 : 2 --\n"
   ]
  },
  {
   "cell_type": "markdown",
   "metadata": {},
   "source": [
    "## Now perform the simulation of question 1.3 for Network 2 and plot the results as before. How do the results differ form Network 1? why is the change in $r_1$ following increased $u_1$ in Network 2 considered \"paradoxical\"? (5 marks)"
   ]
  },
  {
   "cell_type": "code",
   "execution_count": 4,
   "metadata": {},
   "outputs": [
    {
     "ename": "LoadError",
     "evalue": "UndefVarError: False not defined",
     "output_type": "error",
     "traceback": [
      "UndefVarError: False not defined",
      "",
      "Stacktrace:",
      " [1] top-level scope at In[4]:3"
     ]
    }
   ],
   "source": [
    "# -- Simulating equations (1,2) for Nₜ=1000, uᵢ= Nₜ<501 ? 1 : 2 (Net 2) --\n",
    "\n",
    "net1_flg = False  # working with network 2"
   ]
  },
  {
   "cell_type": "markdown",
   "metadata": {},
   "source": [
    "The change in $r_1$ following increased $u_1$ in Network 2 is considered paradoxical because..."
   ]
  },
  {
   "cell_type": "markdown",
   "metadata": {},
   "source": [
    "## Using the results from the simulations you performed in questions 3 and 4, plot the excitatory, inhibitory and external input to $I$ cells ($W_{IE^rE} - W_{II^rI}$, and $u_I$ respectively) as a function of time for Network 1 and Network 2. Based on these plots, provide an explanation in terms of the various inputs to $I$ cells as to why a paradoxical response of $r_I$ occurs in Network 2 but not Network 1. "
   ]
  },
  {
   "cell_type": "code",
   "execution_count": null,
   "metadata": {},
   "outputs": [],
   "source": [
    "# -- Plotting excitatory, inhibitory and external input to `I` cells --"
   ]
  },
  {
   "cell_type": "markdown",
   "metadata": {},
   "source": [
    "A paradoxical response of $r_I$ occurs in Network 2 but not Network 1 because the inputs to Network 2..."
   ]
  },
  {
   "cell_type": "markdown",
   "metadata": {},
   "source": [
    "## For each of the two networks , now set $u_I = 1$ throughout the simulation and instead increase $u_E$ for the second 500 time steps ($u_E = 1$) ($u_E = 1$ for the first 500 and $u_E = 2$ for the 2nd 500 timesteps). Plot $r_E$ and $r_I$ against time. How do $r_E$ and $r_I$ in each network respond to the increase in $u_E$? (5 marks)"
   ]
  },
  {
   "cell_type": "code",
   "execution_count": null,
   "metadata": {},
   "outputs": [],
   "source": [
    "# -- Simulating equations (1,2) for Nₜ=1000, uᵢ = 1, uₑ= Nₜ<501 ? 1 : 2 --\n",
    "\n",
    "# Simulating for Network 1\n",
    "net1_flg = True\n",
    "\n",
    "# Simulating for Network 2\n",
    "net1_flg = False"
   ]
  },
  {
   "cell_type": "code",
   "execution_count": null,
   "metadata": {},
   "outputs": [],
   "source": [
    "# -- Plotting rₑ and rᵢ against time --\n",
    "\n"
   ]
  },
  {
   "cell_type": "markdown",
   "metadata": {},
   "source": [
    "$r_E$ and $r_1$ respond to the increase in $u_E$ by..."
   ]
  },
  {
   "cell_type": "markdown",
   "metadata": {},
   "source": [
    "## Repeat the simulation of question 1.6 for each network, but this time freeze $r_I$ on the 500th timestep, holding it for the remainder of the simulation but continuing to update $r_R$. Plot $r_E$ and $r_I$ against time for each network. Comment on what happens to $r_E$ in each network after $u_E$ is increased. (5 marks)"
   ]
  },
  {
   "cell_type": "code",
   "execution_count": null,
   "metadata": {},
   "outputs": [],
   "source": [
    "# -- Simulating equations (1,2) as in 1.6 with rᵢ constant after t=500 --\n",
    "# vars: Nₜ=1000, uᵢ = 1, uₑ= Nₜ<501 ? 1 : 2, rᵢt2 = if t>500 then rᵢt1\n",
    "\n",
    "# Simulating for Network 1\n",
    "net1_flg = True\n",
    "\n",
    "# Simulating for Network 2\n",
    "net1_flg = False"
   ]
  },
  {
   "cell_type": "code",
   "execution_count": null,
   "metadata": {},
   "outputs": [],
   "source": [
    "# -- Plotting rₑ and rᵢ against time --\n",
    "\n"
   ]
  },
  {
   "cell_type": "markdown",
   "metadata": {},
   "source": [
    "After $u_E$ is increased, $r_E$ does x in network 1 and y in network 2 ..."
   ]
  },
  {
   "cell_type": "markdown",
   "metadata": {},
   "source": [
    "## Based on the simulations in this section, comment on the role of inhibition in dynamically stabilising network responses and the relationship of this to paradoxical inhibition. (4 marks)"
   ]
  },
  {
   "cell_type": "markdown",
   "metadata": {},
   "source": [
    "The role of inhibition in dynamically stabilising network responses is ...\n",
    "\n",
    "The relationship to paradoxical inhibition is..."
   ]
  },
  {
   "cell_type": "markdown",
   "metadata": {},
   "source": [
    "## Tsodyks et al. derived all of the results of this section analytically, without requiring any simulations. What advantages might there be taking an analytical approach as opposed to a simulation-based approach you took here? (4 marks)"
   ]
  },
  {
   "cell_type": "markdown",
   "metadata": {},
   "source": [
    "Some advantages of an *analytical approach* over a *simulation based approach* could be\n",
    "- neccecites higher level of understanding of the model\n",
    "    + this could lead to better generalisability in the human\n",
    "\n",
    "\n",
    "However I would also stress the advantages of the simulation based approach over an analytic approach (to the extent that they are competing rather than complementary)\n",
    "- the analytic approach is still 'simulating' the process to get the results in some sense, its just that the simulation is internal to the human. Computational simulations are much more powerful and have many great qualities that human "
   ]
  },
  {
   "cell_type": "markdown",
   "metadata": {},
   "source": [
    "## Based on your findings in this section, what would you suggest your experimental colleagues do in order to determine whether networks in the brain are inhibitory-stabilised or not? Can you think of any caveats to the modelling approach of this section that might make it difficult to confidently make experimental predictions?"
   ]
  },
  {
   "cell_type": "markdown",
   "metadata": {},
   "source": [
    "Well done nathan if you ever make it this far!"
   ]
  },
  {
   "cell_type": "markdown",
   "metadata": {},
   "source": [
    "# Supralinear Stabilised Network (SSN)"
   ]
  },
  {
   "cell_type": "markdown",
   "metadata": {},
   "source": [
    "- properse to accoint for various contextual influences on responses of neurons in the visual cortex (Ahmadian et al,. 2013; Rubin et al,. 2015)\n",
    "- "
   ]
  },
  {
   "cell_type": "markdown",
   "metadata": {},
   "source": [
    "# Apendices"
   ]
  },
  {
   "cell_type": "markdown",
   "metadata": {},
   "source": [
    "## Appendix 1"
   ]
  },
  {
   "cell_type": "markdown",
   "metadata": {},
   "source": [
    "Equation numbering for the jupyter notebook julia kernel. "
   ]
  },
  {
   "cell_type": "code",
   "execution_count": 6,
   "metadata": {},
   "outputs": [
    {
     "data": {
      "text/plain": [
       "@javascript_str (macro with 1 method)"
      ]
     },
     "execution_count": 6,
     "metadata": {},
     "output_type": "execute_result"
    }
   ],
   "source": [
    "macro javascript_str(s) display(\"text/javascript\", s); end"
   ]
  },
  {
   "cell_type": "code",
   "execution_count": 9,
   "metadata": {},
   "outputs": [
    {
     "data": {
      "application/javascript": [
       "MathJax.Hub.Config({\n",
       "    TeX: { equationNumbers: { autoNumber: \"AMS\" } }\n",
       "});\n"
      ]
     },
     "metadata": {},
     "output_type": "display_data"
    }
   ],
   "source": [
    "# Set up equation numbering\n",
    "javascript\"\"\"\n",
    "MathJax.Hub.Config({\n",
    "    TeX: { equationNumbers: { autoNumber: \"AMS\" } }\n",
    "});\n",
    "\"\"\""
   ]
  },
  {
   "cell_type": "code",
   "execution_count": 10,
   "metadata": {},
   "outputs": [
    {
     "data": {
      "application/javascript": [
       "MathJax.Hub.Queue(\n",
       "  [\"resetEquationNumbers\", MathJax.InputJax.TeX],\n",
       "  [\"PreProcess\", MathJax.Hub],\n",
       "  [\"Reprocess\", MathJax.Hub]\n",
       ");\n"
      ]
     },
     "metadata": {},
     "output_type": "display_data"
    }
   ],
   "source": [
    "# Reloads the equation numbering\n",
    "javascript\"\"\"\n",
    "MathJax.Hub.Queue(\n",
    "  [\"resetEquationNumbers\", MathJax.InputJax.TeX],\n",
    "  [\"PreProcess\", MathJax.Hub],\n",
    "  [\"Reprocess\", MathJax.Hub]\n",
    ");\n",
    "\"\"\""
   ]
  }
 ],
 "metadata": {
  "kernelspec": {
   "display_name": "Julia 1.5.3",
   "language": "julia",
   "name": "julia-1.5"
  },
  "language_info": {
   "file_extension": ".jl",
   "mimetype": "application/julia",
   "name": "julia",
   "version": "1.5.3"
  },
  "toc-autonumbering": true,
  "toc-showcode": true,
  "toc-showmarkdowntxt": false
 },
 "nbformat": 4,
 "nbformat_minor": 4
}
