{
 "cells": [
  {
   "cell_type": "markdown",
   "metadata": {},
   "source": [
    "###### 1. Recurrence Sequences"
   ]
  },
  {
   "cell_type": "markdown",
   "metadata": {},
   "source": [
    "###### (a) _Solve the recurrence $T(n) = 3T(\\sqrt{n}) + lg \\, n$ by making a change of variables. Your solution should be asymptoticaly tight. Do not worry about whether the values are integral._ __(10 points)__"
   ]
  },
  {
   "cell_type": "markdown",
   "metadata": {},
   "source": [
    "Starting with, \n",
    "$$T(n) = 3T(\\sqrt{n}) + lg \\, n$$"
   ]
  },
  {
   "cell_type": "markdown",
   "metadata": {},
   "source": [
    "Substituting $n = 2^m$\n",
    "$$\n",
    "\\begin{aligned}\n",
    "  T(2^m) &= 3T(\\sqrt{2^m}) + lg \\, 2^m\\\\\n",
    "         &= 3T(2^{m/2}) + m\n",
    "\\end{aligned}\n",
    "$$"
   ]
  },
  {
   "cell_type": "markdown",
   "metadata": {},
   "source": [
    "Defining $S(m)$ = $T(2^m)$, noting that $S(m/2) = T(2^{m/2})$"
   ]
  },
  {
   "cell_type": "markdown",
   "metadata": {},
   "source": [
    "$$S(m) = 3S(m/2) + m$$"
   ]
  },
  {
   "cell_type": "markdown",
   "metadata": {},
   "source": [
    "Using the Master Theorem with, $a=3,\\, b=2,\\, c=\\log_2(3),\\, k=1$. We see as $c>k$, this is case 1, giving, \n",
    "$$S(m) \\in \\Theta (n^{\\log_2(3)})$$"
   ]
  },
  {
   "cell_type": "markdown",
   "metadata": {},
   "source": [
    "Backsubstituting $n=2^m \\implies m = \\log_2(m)$\n",
    "$$\\underline{\\underline{T(n) \\in \\log_2(n^{\\log_2(3)})}}$$"
   ]
  },
  {
   "cell_type": "markdown",
   "metadata": {},
   "source": [
    "$\\,$"
   ]
  },
  {
   "cell_type": "markdown",
   "metadata": {},
   "source": [
    "###### (b) _Prove a __good__ (as good as you can manage) asymptotic upper bound on the recurrence $T(n) = T(n-1) T(n/2) + n$. Use the substitution method to verify your answer._ __(20 points)__"
   ]
  },
  {
   "cell_type": "markdown",
   "metadata": {},
   "source": [
    "Starting with,\n",
    "$$T(n) = T(n-1) + T(n/2) + n$$"
   ]
  },
  {
   "cell_type": "markdown",
   "metadata": {},
   "source": [
    "We're going prove upper bound of $T(n) \\in O(n^{log(n)})$.\\\n",
    "To prove this __Goal__ we must find constants $c>0, \\, n_0 > 0$ satisfying\n",
    "\\begin{align}\n",
    "\\boxed{0 \\leq T(n) \\leq c \\cdot n^{log(n)}, \\, \\forall n \\geq n_0}\n",
    "\\end{align}"
   ]
  },
  {
   "cell_type": "markdown",
   "metadata": {},
   "source": [
    "Substituting in the expansion of $T(n)$\n",
    "\n",
    "\\begin{equation*}\n",
    "T(n)                \\leq c \\cdot n^{log(n)}\\\\\n",
    "T(n-1) + T(n/2) + n \\leq c \\cdot n^{log(n)}\n",
    "\\end{equation*}\n",
    "\n",
    "\\begin{equation} \n",
    "T(n-1) + T(n/2) \\leq c \\cdot n^{log(n)} - n\n",
    "\\end{equation}"
   ]
  },
  {
   "cell_type": "markdown",
   "metadata": {},
   "source": [
    "We construct the following __Inductive Hypotheses__\n",
    "\\begin{align}\n",
    "T(n-1) & \\leq c(n-1)^{\\log(n-1)}\\\\\n",
    "T(n/2) & \\leq c(n/2)^{\\log(n/2)}\n",
    "\\end{align}\n",
    "\n",
    "We have Inductive Hypotheses of form $(3)$ $a \\leq b$ and $(4)$ $c \\leq d$ trying to prove $(1)$ of form $a + c \\leq e$. We will prove  $(5)$ $b + d \\leq e$ as this implies $(1)$."
   ]
  },
  {
   "cell_type": "markdown",
   "metadata": {},
   "source": [
    "Subsitituing in the values for $(5)$\n",
    "$$c(n-1)^{\\log(n-1)} + c(n/2)^{\\log(n/2)} \\leq c \\cdot n^{log(n)} - n$$\n",
    "\\begin{align}\n",
    "c(n-1)^{\\log(n-1)} + c(n/2)^{\\log(n/2)} -c \\cdot n^{log(n)} \\leq - n\n",
    "\\end{align}"
   ]
  },
  {
   "cell_type": "markdown",
   "metadata": {},
   "source": [
    "Taking out $c$ as a factor\n",
    "\\begin{gather*}\n",
    "c((n-1)^{\\log(n-1)} + (n/2)^{\\log(n/2)} - n^{log(n)}) \\leq - n\\\\\n",
    "c(n^{log(n)} - (n/2)^{\\log(n/2)} - (n-1)^{\\log(n-1)}) \\geq n\n",
    "\\end{gather*}"
   ]
  },
  {
   "cell_type": "markdown",
   "metadata": {},
   "source": [
    "Testing for $c=1$, $n=10$\n",
    "\\begin{gather*}\n",
    "  (1)((10)^{log((10))} - ((10)/2)^{\\log((10)/2)} - ((10)-1)^{\\log((10)-1)}) \\geq (10) \\\\\n",
    "  10^{\\log(10)} - (5)^{\\log(5)} - (9)^{\\log(9)} \\geq 10 \\\\\n",
    "  62.448... \\geq 10 \\quad (\\implies True)\n",
    "\\end{gather*}"
   ]
  },
  {
   "cell_type": "markdown",
   "metadata": {},
   "source": [
    "Hence we have proven our goal $(1)$ and can conclude\n",
    "$$\\underline{\\underline{T(n) = T(n-1) + T(n/2) + n \\in O(n^{\\log(n)})}}$$"
   ]
  },
  {
   "cell_type": "markdown",
   "metadata": {},
   "source": [
    "$\\,$"
   ]
  },
  {
   "cell_type": "markdown",
   "metadata": {},
   "source": [
    "###### (c) _Suppose you want to develop a matrix-multiplication algorithm that is asymptotically faster that Strassen's algorithm. Your algorithm will use the divide-and-conquer method, dividing each matrix into pieces of size $n/4 \\times n/4$, and the divide and combine steps together will take $\\Theta(n^2)$ time. How many subproblems would your algorithm need to create (at most) in order to be aymptotically faster than Strasses's algorithm?_ __(10 points)__"
   ]
  },
  {
   "cell_type": "markdown",
   "metadata": {},
   "source": [
    "Strassen's algorithm is characterised by\n",
    "\\begin{align*}\n",
    "  T(n) &= 7T(n/2) + \\Theta(n^2)\\\\\n",
    "  & \\implies \\Theta(n^{\\log_2(7)})\n",
    "\\end{align*}\n",
    "\\* as proven in ADS lecture 3 "
   ]
  },
  {
   "cell_type": "markdown",
   "metadata": {},
   "source": [
    "Let our new theoretical algorithm, _Str4ssen's_ algorithm be characterised then by\n",
    "\\begin{align*}\n",
    "  S(n) &= x \\cdot S(n/4) + \\Theta(n^2)\\\\\n",
    "  & \\implies \\Theta(n^{\\log_4(x)})\n",
    "\\end{align*}\n",
    "where $\\Theta(n^2)$ corresponds the time taken divide & combine steps, and our implication holds on the basis that $x$ still satisfies case 1 of the Master theorem ($\\log_4(x) > 2 \\implies x > 16$)."
   ]
  },
  {
   "cell_type": "markdown",
   "metadata": {},
   "source": [
    "For Str4ssen's algorithm to be asymptotically faster than Strassens algorithm it must satisfy the equation\n",
    "$$\\Theta(n^{\\log_2(7)}) > \\Theta(n^{\\log_4(x)}), \\text{ where } x \\in \\mathbb{N}$$\n",
    "Which simplifies to\n",
    "\\begin{align*}\n",
    "\\log_2(7) &> \\log_4(x)\\\\\n",
    "\\implies \\frac{\\ln(7)}{\\ln(2)} &> \\frac{\\ln(x)}{\\ln(4)}\\\\\n",
    "\\implies \\ln(x) &< \\frac{2\\ln(2) \\cdot \\ln(7)}{\\ln(2)}\\\\\n",
    "\\implies x &< e^{(2\\ln(7))}\\\\\n",
    "\\implies x &< 49\\\\\n",
    "\\implies x &= 48\n",
    "\\end{align*}\n",
    "Hence it can be concluded that the maximum number of subproblems Str4ssen's algorithm would need to create is\n",
    "$$\\underline{\\underline{48 \\text{ subproblems of size } n/4}}$$"
   ]
  },
  {
   "cell_type": "markdown",
   "metadata": {},
   "source": [
    "$\\,$"
   ]
  },
  {
   "cell_type": "markdown",
   "metadata": {},
   "source": [
    "###### 2. The Discrete Fourier Transformation (DFT)"
   ]
  },
  {
   "cell_type": "markdown",
   "metadata": {},
   "source": [
    "###### _(a) Compute the DFT of the vector (0,1,2,5)._ __(10 points)__"
   ]
  },
  {
   "cell_type": "markdown",
   "metadata": {},
   "source": [
    "As computer scientists, unlike engineers we know to do"
   ]
  },
  {
   "cell_type": "code",
   "execution_count": 2,
   "metadata": {},
   "outputs": [
    {
     "data": {
      "text/plain": [
       "array([ 8.+0.j, -2.+4.j, -4.+0.j, -2.-4.j])"
      ]
     },
     "execution_count": 2,
     "metadata": {},
     "output_type": "execute_result"
    }
   ],
   "source": [
    "import numpy as np\n",
    "\n",
    "np.fft.fft([0,1,2,5])"
   ]
  },
  {
   "cell_type": "markdown",
   "metadata": {},
   "source": [
    "###### (b) _One way to evaluate a polynomial $A(x)$ of degree bound $n$ at a given point $x_0$ is to divide $A(x)$ by the polynomial $x - x_0$, obtaining a quotent polynomial $q(x)$ of degree bound $n-1$ and a remainder $r$, such that $A(x) = q(x)(x-x_0) + r$. Clearly $A(x_0) = r$. Show how to compute the remainder $r$ and the coefficients of $q(x)$ in time $\\Theta (n)$ from $x_0$ and the coefficients of A._ __(10 points)__ "
   ]
  },
  {
   "cell_type": "markdown",
   "metadata": {},
   "source": [
    "Consider division of two polynomials of general form $A(x)/B(x)$ (where $B(x) \\neq 0$ and $deg(A) \\geq deg(B)$).\n",
    "\\begin{equation}\n",
    "A(x) = q(x)B(x) + r(x), \\quad \\text{with deg(r) < deg(v)}\n",
    "\\end{equation}\n",
    "where $q(x)$ is the quotent, and $r(x)$ the remainder."
   ]
  },
  {
   "cell_type": "markdown",
   "metadata": {},
   "source": [
    "With definintions of $A(x)$ and $B(x)$,\n",
    "\n",
    "\\begin{align*}\n",
    "    A(x) &= a_0 + a_1 x + a_2 x^2, ... , a_n x^n\\\\\n",
    "    B(x) &= b_0 + b_1 x + b_2 x^2, ... , b_m x^m\n",
    "\\end{align*}\n",
    "\n",
    "we can see that our division procedure produces,\n",
    "\n",
    "\\begin{align*}\n",
    "    q(x) &= q_0 + q_1 x + q_2 x^2, ... , q_{n-m} x^{n-m}\\\\\n",
    "    r(x) &= r_0 + r_1 x + r_2 x^2, ... , b_{m-1} x^{m-1}\n",
    "\\end{align*}\n",
    "\n",
    "satisfying $(1)$"
   ]
  },
  {
   "cell_type": "markdown",
   "metadata": {},
   "source": [
    "A simple pseudocode algorithm analogus to integer long division for calculating $q(x)$ and $r(x)$ would be, \n",
    "```\n",
    "\\documentclass{article}\n",
    "\\usepackage[utf8]{inputenc}\n",
    "\\usepackage{algorithmic}            \n",
    "\\usepackage{algorithm}\n",
    "\n",
    "\\title{polynomial-division-equation}\n",
    "\\author{nathan sharp}\n",
    "\\date{October 2020}\n",
    "\n",
    "\\begin{document}\n",
    "\n",
    "\\maketitle\n",
    "\n",
    "\\section{Polynomial Division Algorithm}\n",
    "\n",
    "\\begin{algorithm}\n",
    "\\caption{Polynomial-Division(($A(x),B(x)$)}\\label{alg:div}\n",
    "    \\begin{algorithmic}[1]\n",
    "    \\STATE $n \\gets deg(A)$\n",
    "    \\STATE $m \\gets deg(B)$\n",
    "    \\FOR{$i = (m-n)$ \\textbf{downto} 0}\n",
    "        \\STATE $q_i$ \\gets $a_{n+i}/b_n$\n",
    "        \\FOR{ $j = (n + i - 1)$ \\textbf{ downto } i }\n",
    "            \\STATE $a_j$ \\gets $a_j$ - $q_i$ $b_{j-i}$\n",
    "        \\ENDFOR\n",
    "    \\ENDFOR\n",
    "    \\STATE $(r_0,...,r_{n-1})$ \\gets  $(a_0,...,a_{n-1})$ \n",
    "    \\RETURN $(q_0,...,q_{n-m})$, $(r_0,...,r_{n-1})$\n",
    "    \\end{algorithmic}\n",
    "\\end{algorithm}\n",
    "\n",
    "\\end{document}\n",
    "```\n",
    "\\* displayed in unrendered latex as could not get algorithmic package to load / image to render sorry!.\n",
    "\n",
    "Clearly by inspection the running time of this algorithms is $\\Theta((n-m+1)n)$. Our problem is a special case where $m=1$ hence, \n",
    "$$\\underline{\\underline{T(n) = \\Theta(n)}}$$"
   ]
  },
  {
   "cell_type": "markdown",
   "metadata": {},
   "source": [
    "$\\,$"
   ]
  },
  {
   "cell_type": "markdown",
   "metadata": {},
   "source": [
    "###### (c) given a list of values $z_0,z_1,...,z_{n-1}$ (possibly with repitions), show how to find the coefficients of a polynomial $P(x)$ of degree bound $n + 1$ that has zeros only at $z_0,z_1,...,z_{n-1}$ (possibly with repitions). Your procedure should run in $O(n \\, lg^2 n)$ __(20 points)__"
   ]
  },
  {
   "cell_type": "markdown",
   "metadata": {},
   "source": [
    "Did not solve."
   ]
  },
  {
   "cell_type": "markdown",
   "metadata": {},
   "source": [
    "###### (d) _Consider two sets $A$ and $B$, each containing $n$ integers in the range from $0$ to $10n$. We wish to compute the Cartesian sum of $A$ and $B$, defined by_\n",
    "\n",
    "$$C := \\{x + y | x \\in A \\text{ and } y \\in B \\} $$\n",
    "\n",
    "###### _Note that the integers in $C$ are in the range from $0$ to $20n$. We want to find the elements of $C$ and the number of times each element of $C$ is realised as a sum of elements in $A$ and $B$. Show how to solve the problem in $O(n \\, lg \\, n)$ time._ __(20 points)__"
   ]
  },
  {
   "cell_type": "markdown",
   "metadata": {},
   "source": [
    "There is the obvious naive algorithm in $O(n^2)$. To achive $O(n \\, \\log(n))$ we notice that this question is under the Fast Fourier Transform (FFT) question set, an algorithm that happens to run in  $O(n \\, \\log(n))$. We take the approach of trying to coearse the Cartesian sum into th FFT  in the following way."
   ]
  },
  {
   "cell_type": "markdown",
   "metadata": {},
   "source": [
    "Construct the polynomal $A(x)$ for set $A$ as follows\n",
    "  $$A(x) = \\sum_{i=0}^{10n-1} a_i x^i, \\quad \\text{ where } a_i = \\text{ frequency of } i \\text{ in } A$$"
   ]
  },
  {
   "cell_type": "markdown",
   "metadata": {},
   "source": [
    "Doing the same for $B$ to produce $B(x)$ allows us to multiply our two polynomials using the FFT to produce $C(x)$. By inspection we can see that the power of each term  in $C(x)$ will be an integer element of $C$ and the coefficients of each term will be the frequency with which the element occurs. As the 2 polynomial constructions run in a total of $O(20n) \\implies O(n)$, we can conclude that the total running time of our procedure is\n",
    "$$T(n) = O(n \\, \\log(n)) + O(n)$$\n",
    "$$\\underline{\\underline{T(n) = O(n \\, \\log(n))}}$$"
   ]
  },
  {
   "cell_type": "markdown",
   "metadata": {},
   "source": [
    "# Apendices"
   ]
  },
  {
   "cell_type": "code",
   "execution_count": 2,
   "metadata": {},
   "outputs": [
    {
     "data": {
      "application/javascript": [
       "MathJax.Hub.Config({\n",
       "    TeX: { equationNumbers: { autoNumber: \"AMS\" } }\n",
       "});\n"
      ],
      "text/plain": [
       "<IPython.core.display.Javascript object>"
      ]
     },
     "metadata": {},
     "output_type": "display_data"
    }
   ],
   "source": [
    "%%javascript\n",
    "MathJax.Hub.Config({\n",
    "    TeX: { equationNumbers: { autoNumber: \"AMS\" } }\n",
    "});"
   ]
  },
  {
   "cell_type": "code",
   "execution_count": 3,
   "metadata": {},
   "outputs": [
    {
     "data": {
      "application/javascript": [
       "MathJax.Hub.Queue(\n",
       "  [\"resetEquationNumbers\", MathJax.InputJax.TeX],\n",
       "  [\"PreProcess\", MathJax.Hub],\n",
       "  [\"Reprocess\", MathJax.Hub]\n",
       ");\n"
      ],
      "text/plain": [
       "<IPython.core.display.Javascript object>"
      ]
     },
     "metadata": {},
     "output_type": "display_data"
    }
   ],
   "source": [
    "%%javascript\n",
    "MathJax.Hub.Queue(\n",
    "  [\"resetEquationNumbers\", MathJax.InputJax.TeX],\n",
    "  [\"PreProcess\", MathJax.Hub],\n",
    "  [\"Reprocess\", MathJax.Hub]\n",
    ");"
   ]
  }
 ],
 "metadata": {
  "kernelspec": {
   "display_name": "Python3 - python",
   "language": "python",
   "name": "ipython_python"
  },
  "language_info": {
   "codemirror_mode": {
    "name": "ipython",
    "version": 3
   },
   "file_extension": ".py",
   "mimetype": "text/x-python",
   "name": "python",
   "nbconvert_exporter": "python",
   "pygments_lexer": "ipython3",
   "version": "3.7.7"
  }
 },
 "nbformat": 4,
 "nbformat_minor": 4
}
