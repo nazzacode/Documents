{
 "cells": [
  {
   "cell_type": "markdown",
   "metadata": {
    "pycharm": {
     "name": "#%% md\n"
    }
   },
   "source": [
    "# _CLRS: Algorithms & Data Structures_\n",
    "Nathan Sharp | 2019-2020\n",
    "<br/><br/>\n",
    "***\n",
    "### ___$I$ Foundations___\n",
    "# Chapter 2 Getting Started"
   ]
  },
  {
   "cell_type": "code",
   "execution_count": 3,
   "metadata": {
    "collapsed": false,
    "jupyter": {
     "outputs_hidden": false
    },
    "pycharm": {
     "is_executing": false,
     "name": "#%% code\n"
    }
   },
   "outputs": [],
   "source": [
    "import math\n",
    "import random"
   ]
  },
  {
   "cell_type": "code",
   "execution_count": 4,
   "metadata": {},
   "outputs": [
    {
     "name": "stdout",
     "output_type": "stream",
     "text": [
      "[7, 2, 4, 5, 7, 4, 8, 1, 8, 7]\n"
     ]
    }
   ],
   "source": [
    "def rand_arr(n):\n",
    "    \"\"\"Initialise a randomly sampled array of size n\"\"\"\n",
    "    return[random.randrange(1, n, 1) for i in range(n)]\n",
    "    \n",
    "A = rand_arr(10)\n",
    "\n",
    "# testing\n",
    "print(A)"
   ]
  },
  {
   "cell_type": "markdown",
   "metadata": {
    "pycharm": {
     "name": "#%% md\n"
    }
   },
   "source": [
    "## 2.1 Insertion Sort\n",
    "***\n",
    "Insertion sort iterates over all elements in the array, comparing each element to each of the descending sorted elements to insert in its place."
   ]
  },
  {
   "cell_type": "code",
   "execution_count": 67,
   "metadata": {
    "collapsed": false,
    "jupyter": {
     "outputs_hidden": false
    },
    "pycharm": {
     "is_executing": false,
     "name": "#%% code\n"
    }
   },
   "outputs": [
    {
     "data": {
      "text/plain": [
       "[3, 3, 4, 4, 5, 5, 6, 7, 8, 8]"
      ]
     },
     "execution_count": 67,
     "metadata": {},
     "output_type": "execute_result"
    }
   ],
   "source": [
    "def insertSort(A):\n",
    "    for j in range(1, len(A)):\n",
    "        key = A[j] \n",
    "        # insert arr[j] into the sorted sequence arr[1..j-1]\n",
    "        i = j-1\n",
    "        while (i >= 0) and (A[i] > key):\n",
    "            A[i+1] = A[i]\n",
    "            i -= 1\n",
    "        A[i+1] = key\n",
    "    return A\n",
    "\n",
    "# testing\n",
    "insertSort(A)"
   ]
  },
  {
   "cell_type": "markdown",
   "metadata": {
    "pycharm": {
     "name": "#%% md\n"
    }
   },
   "source": [
    "## 2.2 Analysing Algorithms\n",
    "***\n",
    "When analysing algorithms we assume the random-access machine (RAM) model of computation. The RAM model contains instructions commonly found in real computers: \n",
    "\n",
    "#### RAM Model of Computation\n",
    "- arithmetic (add, subtract, multiply, divide, remainder, floor, ceiling)\n",
    "- data movement (load, store, copy)\n",
    "- control (conditional and unconditional branch, subroutine call, return)\n",
    "\n",
    "All the above instructions take a constant amount of time in the RAM model.\\\n",
    "Bit shifting means that exponention can also be counted to run in constant time."
   ]
  },
  {
   "cell_type": "markdown",
   "metadata": {},
   "source": [
    "### Running Time of Insertion Sort\n",
    "The running time of an algorithm is sum of the running time for each statement executed.\\\n",
    "In the following example $c_1$ to $c_7$ represent the cost at each step, and is multiplied by the number of times it is repeated \n",
    "(for an input of n values)."
   ]
  },
  {
   "cell_type": "markdown",
   "metadata": {
    "jupyter": {
     "outputs_hidden": false
    },
    "pycharm": {
     "name": "#%% code\n"
    }
   },
   "source": [
    "| insertSort()                                    | cost   | times                   |\n",
    "|-------------------------------------------------|--------|-------------------------|\n",
    "| `1      for j in range(1, len(A)):`             | $c_1$  | $n$                     |\n",
    "| `2          key = A[j]`                         | $c_2$  | $n-1$                   | \n",
    "| `3          # insert A[a] into...`              |        |                         |\n",
    "| `4          i = j-1`                            | $c_3$  | $n-1$                   |\n",
    "| `5          while (i > 0) and (A[i] > key):`    | $c_4$  | $\\sum_{j=2}^{n}t_j$     |\n",
    "| `6              A[i+1] = A[i]`                  | $c_5$  | $\\sum_{j=2}^{n}(t_j-1)$ |\n",
    "| `7              i -= 1`                         | $c_6$  | $\\sum_{j=2}^{n}(t_j-1)$ |\n",
    "| `8          A[i+1] = key`                       | $c_7$  | $n-1$                   |"
   ]
  },
  {
   "cell_type": "markdown",
   "metadata": {},
   "source": [
    "Giving total running time:\n",
    "\n",
    "$$T(n)=c_1n+c_2(n-1)+c_3(n-1)+c_4\\sum_{j=2}^{n}t_j+c_5\\sum_{j=2}^{n}(t_j-1)+c_6\\sum_{j=2}^{n}(t_j-1)+c_7(n-1)$$"
   ]
  },
  {
   "cell_type": "markdown",
   "metadata": {},
   "source": [
    "#### Best case running time of Insertion Sort\n",
    "The best case running time occurs when the array is already sorted. Thus $t_{j}$ = 1 for all j, giving: \n",
    "\n",
    "$$\\begin{align} \n",
    "T(n)     & = c_1n+c_2(n-1)+c_3(n-1)+c_4(n-1)+c_7(n-1) \\\\ \n",
    "         & = (c_1+c_2+c_3+c_4+c_7)n - (c_2+c_3+c_4+c_7). \\\\\n",
    "         & = (a)n + (b)\n",
    "\\end{align}\n",
    "$$\n",
    "\n",
    "We can express this running time as $an + b$ for constants $a$ and $b$ that depend on the statement costs. Hence the best case running time of insertion sort is a _linear function_ of $n$. Hence insertion sort is bounded below by $T(n) = \\Omega(n)$."
   ]
  },
  {
   "cell_type": "markdown",
   "metadata": {},
   "source": [
    "#### Worst case running time of Insertion Sort\n",
    "\n",
    "Even if the input size is given, the algorithm might depend on the order. We normally just find the worst case time as, (1) knowing this gives us an upper bound and, (2) the average case (which requires probabilistic analysis to calculate) is often very closly related to the worst case.\n",
    "\n",
    "The worst case running time of insertion sort occurs when the array is in reverse sorted order. We must compare each element of $A[j]$ with each element in the entire sorted sub array, so $t_{j} = j$ for $j = 2,3,...,n.$\\\n",
    "Using the standard sumations: \n",
    "\n",
    "$$ \\sum_{j=2}^{n}j = \\frac{n(n+1)}{2}-1 \\quad and \\quad \\sum_{j=2}^{n}j-1 = \\frac{n(n+1)}{2}$$  \n",
    "\n",
    "Substituting these sumation formula into our equation, the worst case running time for insertion sort is: \n",
    "\n",
    "$$\n",
    "\\begin{align}\n",
    "T(n) & = c_1n + c_2(n-1) + c_3(n-1) + c_4\\left(\\frac{n(n+1)}{2}-1\\right) + c_5\\left(\\frac{n(n+1)}{2}\\right) + c_6\\left(\\frac{n(n+1)}{2}\\right)+c_7(n-1) \\\\\n",
    " & = \\left(\\frac{c_4}{2} + \\frac{c_5}{2} + \\frac{c_6}{2}\\right)n^2 + \\left(c_1 + c_2 + c_3 + \\frac{c_4}{2} - \\frac{c_5}{2} - \\frac{c_6}{2} + c_7\\right)n - (c_2 + c_3 + c_4 + c_7) \\\\\n",
    " & = (a)n^{2} + (b)n + (c)\n",
    "\\end{align} $$\n",
    "\n",
    "As we can express this worst case running time as $an^{2} + bn + c$, insertion sort is thus a _quadratic function_ of n. Hence insertion sort is bounded above by $T(n) = O (n^2)$"
   ]
  },
  {
   "cell_type": "markdown",
   "metadata": {},
   "source": [
    "### Order of growth of Insertion Sort \n",
    "Generally in time complexity analysis of algorithms we drop all but the largest term as it will come to dominate all the other terms as the size of n increases (this is gererally where running time matters more). Additionally we drop this terms coefficient. Hence in conclusion we can say Insertion sort has a worst case runtime in $\\Theta (n^{2})$, pronounced \"theta of n-squared\". (NS: is the lower bound satisfied?)"
   ]
  },
  {
   "cell_type": "markdown",
   "metadata": {},
   "source": [
    "## 2.3 Designing Algorithms\n",
    "***"
   ]
  },
  {
   "cell_type": "markdown",
   "metadata": {},
   "source": [
    "### 2.3.1 Divide and conquer\n",
    "Many useful algorithms are recursive, meaning they solve smaller sub-problems and cascade the solution to solve the problem.\n"
   ]
  },
  {
   "cell_type": "markdown",
   "metadata": {},
   "source": [
    "### Merge Sort\n",
    "_Input:_ A list `A` of natural numbers, `p`,`r`: $1 \\leq$ `p` $\\leq$ `r` $\\leq$ `n`.\\\n",
    "`MergeSort` 'assumes' <sup>[1](#myfootnote1)</sup> `A[p..q]` and `A[q+1 ...r]` are in sorted order then calls `Merge`\\\n",
    "`Merge` repeatedly taking the lowest element avaliable comparing the front element from the two sub arrays:\n",
    "\n",
    "<a name=\"myfootnote1\">1</a> Assumption is guaranted by calling recursivly on sub array down to a singleton which is defacto sorted."
   ]
  },
  {
   "cell_type": "code",
   "execution_count": 5,
   "metadata": {
    "pycharm": {
     "name": "#%% md\n"
    }
   },
   "outputs": [
    {
     "data": {
      "text/plain": [
       "True"
      ]
     },
     "execution_count": 5,
     "metadata": {},
     "output_type": "execute_result"
    }
   ],
   "source": [
    "def mergeSort(A,p=0,r=-1):\n",
    "    \"\"\" Sorts a list of integers by repeated recursive calls and a call to `merge` \"\"\"\n",
    "    # if initial call\n",
    "    if r == -1:\n",
    "        r = len(A) - 1\n",
    "        \n",
    "    if p < r:\n",
    "        q = int(math.floor((p+r)/2))\n",
    "        mergeSort(A,p,q)\n",
    "        mergeSort(A,q+1,r)\n",
    "        merge(A,p,q,r)\n",
    "    return A\n",
    "\n",
    "\n",
    "def merge(A,p,q,r):\n",
    "    \"\"\" Merges two sorted lists by repeatedly taking the lowest element avaliable \n",
    "        by comparing the front element from the two sub arrays\n",
    "    \"\"\"\n",
    "    left_size,right_size = q-p+1,r-q  \n",
    "    # initialises new array in memory \n",
    "    left_arr  = [A[p+i] for i in range(left_size)]\n",
    "    right_arr = [A[(q+1)+j] for j in range(right_size)]\n",
    "    # +1 for infinity sentinel\n",
    "    left_arr.append(math.inf)\n",
    "    right_arr.append(math.inf)\n",
    "    # loop over domain, replacing in A, but sorted \n",
    "    # with the next element = min(left_arr[0], right_arr[0]) \n",
    "    for i in range(r-p+1):\n",
    "        if left_arr[0] <= right_arr[0]:\n",
    "            A[p+i] = left_arr.pop(0)\n",
    "        else:\n",
    "            A[p+i] = right_arr.pop(0)\n",
    "            \n",
    "# testing\n",
    "A = rand_arr(100)\n",
    "B = A\n",
    "B.sort()\n",
    "mergeSort(A) == B"
   ]
  },
  {
   "cell_type": "markdown",
   "metadata": {},
   "source": [
    "### 2.3.2 Analysing divide-and-conquer algorithms "
   ]
  },
  {
   "cell_type": "markdown",
   "metadata": {},
   "source": [
    "When an algorithm contains a recursive call to itself, we can oftendescribe its running time by a _recurrence equation_ which describes the overall running time on a problem of size $n$ in terms of running time of smaller inputs. We can then use mathematical tools to solve the recurrence and provide bounds on the performance of the algorithm."
   ]
  },
  {
   "cell_type": "markdown",
   "metadata": {},
   "source": [
    "### Running time of Merge Sort"
   ]
  },
  {
   "cell_type": "code",
   "execution_count": null,
   "metadata": {},
   "outputs": [],
   "source": []
  },
  {
   "cell_type": "markdown",
   "metadata": {
    "jupyter": {
     "outputs_hidden": false
    },
    "pycharm": {
     "is_executing": false,
     "name": "#%%\n"
    }
   },
   "source": [
    "\n"
   ]
  },
  {
   "cell_type": "code",
   "execution_count": null,
   "metadata": {},
   "outputs": [],
   "source": []
  }
 ],
 "metadata": {
  "kernelspec": {
   "display_name": "Python 3",
   "language": "python",
   "name": "python3"
  },
  "language_info": {
   "codemirror_mode": {
    "name": "ipython",
    "version": 3
   },
   "file_extension": ".py",
   "mimetype": "text/x-python",
   "name": "python",
   "nbconvert_exporter": "python",
   "pygments_lexer": "ipython3",
   "version": "3.7.7"
  },
  "pycharm": {
   "stem_cell": {
    "cell_type": "raw",
    "metadata": {
     "collapsed": false
    },
    "source": []
   }
  }
 },
 "nbformat": 4,
 "nbformat_minor": 4
}
