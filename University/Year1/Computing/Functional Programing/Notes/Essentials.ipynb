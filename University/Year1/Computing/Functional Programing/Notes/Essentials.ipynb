{
 "cells": [
  {
   "cell_type": "markdown",
   "metadata": {},
   "source": [
    "### Let, where"
   ]
  },
  {
   "cell_type": "code",
   "execution_count": 21,
   "metadata": {},
   "outputs": [
    {
     "data": {
      "text/plain": [
       "49"
      ]
     },
     "metadata": {},
     "output_type": "display_data"
    }
   ],
   "source": [
    "f x = x * x \n",
    "    where x = 7\n",
    "f 10"
   ]
  },
  {
   "cell_type": "code",
   "execution_count": 28,
   "metadata": {},
   "outputs": [
    {
     "data": {
      "text/plain": [
       "385"
      ]
     },
     "metadata": {},
     "output_type": "display_data"
    }
   ],
   "source": [
    "let n = 10 in\n",
    "    let ns = [0..n] in\n",
    "        let nsquares = [x^2 | x <- ns] in\n",
    "            sum nsquares"
   ]
  },
  {
   "cell_type": "code",
   "execution_count": null,
   "metadata": {},
   "outputs": [],
   "source": [
    "(let y = 4 in 3 + y)*(let y = 2 in y*y*y)"
   ]
  },
  {
   "cell_type": "code",
   "execution_count": null,
   "metadata": {},
   "outputs": [],
   "source": [
    "calcBmis xs = [bmi | (w, h) <- xs, let bmi = w / h ^ 2]"
   ]
  },
  {
   "cell_type": "code",
   "execution_count": null,
   "metadata": {},
   "outputs": [],
   "source": [
    "countPositivesRec [] = 0\n",
    "countPositivesRec (x:xs) = positive x + countPositivesRec xs\n",
    "    where positive x = if x > 0 then 1 else 0"
   ]
  },
  {
   "cell_type": "markdown",
   "metadata": {},
   "source": [
    "### Linking lists, pattern matching, multiline definitions, guards"
   ]
  },
  {
   "cell_type": "code",
   "execution_count": null,
   "metadata": {},
   "outputs": [],
   "source": [
    "import Test.QuickCheck\n",
    "import Data.Char\n",
    "\n",
    "lookUp :: Char -> [(Char, Char)] -> Char\n",
    "lookUp ch xs = head ([y | (x,y) <- xs, x == ch] ++ [ch])\n",
    "\n",
    "lookUpRec :: Char -> [(Char, Char)] -> Char\n",
    "lookUpRec ch [] = ch\n",
    "lookUpRec ch ((a,b):xs) |\n",
    "    a == ch = b |\n",
    "    otherwise = lookUpRec ch xs\n",
    "\n",
    "prop_lookUp :: Char -> [(Char, Char)] -> Bool \n",
    "prop_lookUp c k = lookUpRec c k == lookUp c k\n",
    "\n",
    "quickCheck (\\ c k -> collect (isAlpha c) (prop_lookUp))\n",
    "-- /show"
   ]
  },
  {
   "cell_type": "code",
   "execution_count": null,
   "metadata": {},
   "outputs": [],
   "source": [
    "['a'] /= ['b']"
   ]
  },
  {
   "cell_type": "markdown",
   "metadata": {},
   "source": [
    "### Select"
   ]
  },
  {
   "cell_type": "code",
   "execution_count": null,
   "metadata": {},
   "outputs": [],
   "source": [
    "\"words\"!!3\n",
    "[11..]!!6"
   ]
  },
  {
   "cell_type": "markdown",
   "metadata": {},
   "source": [
    "### Take and drop"
   ]
  },
  {
   "cell_type": "code",
   "execution_count": null,
   "metadata": {},
   "outputs": [],
   "source": [
    "splitEachFive :: String -> [String]\n",
    "splitEachFive s |\n",
    "    s == [] = [] |\n",
    "    length s < 5 = (splitEachFive (s ++ ['#'])) |\n",
    "    otherwise = [(take 5 s)] ++ splitEachFive (drop 5 s)\n",
    "    \n",
    "splitEachFive \"asdf23432fsaadfadsfd\""
   ]
  },
  {
   "cell_type": "code",
   "execution_count": null,
   "metadata": {},
   "outputs": [],
   "source": [
    "prop_splitEachFive :: String -> Bool\n",
    "prop_splitEachFive s = length (splitEachFive s) ==  (length s + 4) `div` 5\n",
    "\n",
    "quickCheck prop_splitEachFive"
   ]
  },
  {
   "cell_type": "markdown",
   "metadata": {},
   "source": [
    "### Take and concat"
   ]
  },
  {
   "cell_type": "code",
   "execution_count": null,
   "metadata": {},
   "outputs": [],
   "source": [
    "prop2_splitEachFive :: String -> Bool\n",
    "prop2_splitEachFive s = concat (splitEachFive s) == take (((length s + 4) `div` 5)*5) (s ++ \"####\")\n",
    "\n",
    "quickCheck prop2_splitEachFive"
   ]
  },
  {
   "cell_type": "markdown",
   "metadata": {},
   "source": [
    "### search"
   ]
  },
  {
   "cell_type": "code",
   "execution_count": null,
   "metadata": {},
   "outputs": [],
   "source": [
    "search :: Eq a => [a] -> a -> [Int]\n",
    "search xs y = [ i | (i,x) <- zip [0..] xs, x==y ]\n",
    "\n",
    "searchRec :: Eq a => [a] -> a -> [Int]\n",
    "searchRec xs y  =  srch xs y 0\n",
    "  where\n",
    "  srch :: Eq a => [a] -> a -> Int -> [Int]\n",
    "  srch [] y i      =  []\n",
    "  srch (x:xs) y i\n",
    "    | x == y       =  i : srch xs y (i+1)\n",
    "    | otherwise    =  srch xs y (i+1)"
   ]
  },
  {
   "cell_type": "markdown",
   "metadata": {},
   "source": [
    "### zipHarsh"
   ]
  },
  {
   "cell_type": "code",
   "execution_count": null,
   "metadata": {},
   "outputs": [],
   "source": [
    "zipHarsh :: [a] -> [b] -> [(a,b)]\n",
    "zipHarsh [] []  =  []\n",
    "zipHarsh (x:xs) (y:ys)  =  (x,y) : zipHarsh xs ys\n",
    "\n",
    "dot :: Num a => [a] -> [a] -> a\n",
    "dot xs ys  =  sum [ x*y | (x,y) <- zipHarsh xs ys ]\n",
    "\n",
    "dotRec :: Num a => [a] -> [a] -> a\n",
    "dotRec [] []          =  0\n",
    "dotRec (x:xs) (y:ys)  =  x*y + dotRec xs ys\n",
    "\n",
    "prop_dot :: Eq a => Num a => [a] -> Bool\n",
    "prop_dot xs = dot xs xs == dotRec xs xs\n",
    "quickCheck prop_dot"
   ]
  },
  {
   "cell_type": "markdown",
   "metadata": {},
   "source": [
    "### Types"
   ]
  },
  {
   "cell_type": "code",
   "execution_count": null,
   "metadata": {},
   "outputs": [],
   "source": [
    "type Para a b = (a, b)\n",
    "pairsum :: Para Int Int -> Para Int Int -> (Para Int Int, Int)\n",
    "pairsum para@(a,b) (c,d) = (para, a+b+c+d)"
   ]
  },
  {
   "cell_type": "markdown",
   "metadata": {},
   "source": [
    "## DFAs"
   ]
  },
  {
   "cell_type": "code",
   "execution_count": null,
   "metadata": {},
   "outputs": [],
   "source": [
    "import Test.QuickCheck.Modifiers -- such as Positive and NonNegative\n",
    "import Test.QuickCheck\n",
    "\n",
    "type Next state symbol =         -- transition function for a DFA\n",
    "  state -> symbol -> state\n",
    "type DFA state symbol = (        -- names as in tex Mathematical Methods for Linguistics\n",
    "    [state]            -- k \n",
    "  , [symbol]           -- sigma \n",
    "  ,  state             -- q0 \n",
    "  , Next state symbol  -- delta \n",
    "  , state -> Bool      -- f (accepting?)\n",
    "  )"
   ]
  },
  {
   "cell_type": "code",
   "execution_count": null,
   "metadata": {},
   "outputs": [],
   "source": [
    "final :: DFA st sy ->  st -> [sy] -> st -- given dfa initial state and inputs\n",
    "final dfa                 s  []    = s  -- where do we end up\n",
    "final dfa@(_,_,_,delta,_) s (x:xs) = final dfa (delta s x) xs"
   ]
  },
  {
   "cell_type": "code",
   "execution_count": null,
   "metadata": {},
   "outputs": [],
   "source": [
    "accept :: DFA state symbol -> [symbol] -> Bool -- starting from start state do\n",
    "accept dfa@(_, _, q0, _, f) xs = f (final dfa q0 xs) -- we reach an accepting state"
   ]
  },
  {
   "cell_type": "markdown",
   "metadata": {},
   "source": [
    "### DFA for $\\mathbb{Z_m}$"
   ]
  },
  {
   "cell_type": "code",
   "execution_count": null,
   "metadata": {},
   "outputs": [],
   "source": [
    "basebmodm :: Int -> Int        -- modulus m and base b\n",
    "  -> DFA Int Int               -- accepts strings base b encoding \n",
    "basebmodm m b = (              -- a multiple of m\n",
    "    [0..(m-1)]  -- states\n",
    "  , [0..(b-1)]  -- symbols \n",
    "  , 0           -- start at 0 \n",
    "  , delta       -- see below \n",
    "  , (==0)       -- accepts 0\n",
    "  ) where\n",
    "  delta st sy = \n",
    "    (b*st + sy) `mod` m"
   ]
  },
  {
   "cell_type": "markdown",
   "metadata": {},
   "source": [
    "### Product DFA"
   ]
  },
  {
   "cell_type": "code",
   "execution_count": null,
   "metadata": {},
   "outputs": [],
   "source": [
    "prodDFA :: Eq sy => DFA st sy -> DFA st' sy -> DFA (st, st') sy\n",
    "prodDFA (k,  sigma,  q0,  delta,  f)      -- the product of two DFA\n",
    "        (k', sigma', q0', delta', f') =   -- recognises strings accepted\n",
    "  if sigma /= sigma' then undefined else  -- by both of them\n",
    "    (\n",
    "      [(x,x') | x <- k, x' <- k']\n",
    "    , sigma\n",
    "    , (q0, q0')\n",
    "    , delta''\n",
    "    , f''\n",
    "    )where\n",
    "      delta'' (x, x') s = (delta x s, delta' x' s)\n",
    "      f'' (q, q') = f q && f' q'"
   ]
  },
  {
   "cell_type": "markdown",
   "metadata": {},
   "source": [
    "## Map"
   ]
  },
  {
   "cell_type": "code",
   "execution_count": null,
   "metadata": {},
   "outputs": [],
   "source": [
    "squares = map sqr\n",
    "    where\n",
    "    sqr x = x * x\n",
    "squares [-1, 2, 3]"
   ]
  },
  {
   "cell_type": "markdown",
   "metadata": {},
   "source": [
    "## Filter"
   ]
  },
  {
   "cell_type": "code",
   "execution_count": null,
   "metadata": {},
   "outputs": [],
   "source": [
    "filter (==7) [3,7,1,5,6,2,7,7,7,7,3,34,2,7]"
   ]
  },
  {
   "cell_type": "markdown",
   "metadata": {},
   "source": [
    "## Fold"
   ]
  },
  {
   "cell_type": "markdown",
   "metadata": {},
   "source": [
    "### Foldr"
   ]
  },
  {
   "cell_type": "code",
   "execution_count": null,
   "metadata": {},
   "outputs": [],
   "source": [
    "foldr (\\x y -> x + y + 1) 0 [1..10]\n",
    "foldr (-) 10 [1..4] -- = (1 - (2 - (3 - (4 - 10)))) = 1 - 2 + 3 - 4 + 10 = 8"
   ]
  },
  {
   "cell_type": "markdown",
   "metadata": {},
   "source": [
    "### Foldl"
   ]
  },
  {
   "cell_type": "code",
   "execution_count": null,
   "metadata": {
    "scrolled": true
   },
   "outputs": [],
   "source": [
    "foldl (-) 10 [1..4] -- = (((10 - 1) - 2) - 3) - 4 = 10 - 1 - 2 - 3 - 4 = 10-10 = 0"
   ]
  },
  {
   "cell_type": "markdown",
   "metadata": {},
   "source": [
    "### Foldr1, Foldl1"
   ]
  },
  {
   "cell_type": "code",
   "execution_count": null,
   "metadata": {},
   "outputs": [],
   "source": [
    "foldr (\\x y -> x + y + 1) 0 [1..10]\n",
    "foldr1 (\\x y -> x + y + 1) [1..10]\n",
    "foldl1 (\\x y -> x + y + 1) [1..10]"
   ]
  },
  {
   "cell_type": "code",
   "execution_count": null,
   "metadata": {},
   "outputs": [],
   "source": [
    "import Test.QuickCheck\n",
    "foldProp :: [Int] -> Property\n",
    "foldProp xs = (length xs > 0) ==> (foldl1 (max) xs) == (foldr1 (max) xs)\n",
    "quickCheck foldProp"
   ]
  },
  {
   "cell_type": "markdown",
   "metadata": {},
   "source": [
    "## Currying"
   ]
  },
  {
   "cell_type": "code",
   "execution_count": null,
   "metadata": {},
   "outputs": [],
   "source": [
    "mul a b = a * b\n",
    "times37 = mul 37\n",
    "times37 1137"
   ]
  },
  {
   "cell_type": "markdown",
   "metadata": {},
   "source": [
    "## Lambdas"
   ]
  },
  {
   "cell_type": "code",
   "execution_count": null,
   "metadata": {},
   "outputs": [],
   "source": [
    "f_complicated :: [Int] -> Int\n",
    "f_complicated xs  =  foldr (+) 0 (map sqr (filter pos xs))\n",
    "    where\n",
    "    sqr x  =  x*x\n",
    "    pos x  =  x > 0"
   ]
  },
  {
   "cell_type": "markdown",
   "metadata": {},
   "source": [
    "#### How to simplify this ?"
   ]
  },
  {
   "cell_type": "code",
   "execution_count": null,
   "metadata": {},
   "outputs": [],
   "source": [
    "f_simpler :: [Int] -> Int\n",
    "f_simpler xs  =  foldr (+) 0 (map (\\x -> x * x) (filter (\\x -> x > 0) xs))"
   ]
  },
  {
   "cell_type": "code",
   "execution_count": null,
   "metadata": {},
   "outputs": [],
   "source": [
    "-- testing if f_complicated == f_simpler\n",
    "import Test.QuickCheck\n",
    "prop_f :: [Int] -> Bool\n",
    "prop_f xs = f_complicated xs == f_simpler xs\n",
    "quickCheck prop_f"
   ]
  },
  {
   "cell_type": "markdown",
   "metadata": {},
   "source": [
    "The character \\\\ stands for $\\lambda$"
   ]
  },
  {
   "cell_type": "markdown",
   "metadata": {},
   "source": [
    "### $\\beta$ Rule\n",
    "$(\\lambda x.N) M$  \n",
    "**means**  \n",
    "let $x = M$ in $N$"
   ]
  },
  {
   "cell_type": "markdown",
   "metadata": {},
   "source": [
    "$(> 0)$ is shorthand for $(\\x -> x > 0)$  \n",
    "$(2*)$ is shorthand for $(\\x -> 2*x)$  \n",
    "__similarily__  \n",
    "$(+ 1)$    \n",
    "$(2 ˆ)$      \n",
    "$(ˆ 2)$    "
   ]
  },
  {
   "cell_type": "code",
   "execution_count": null,
   "metadata": {},
   "outputs": [],
   "source": [
    "f_simplest :: [Int] -> Int\n",
    "f_simplest xs = foldr (+) 0 (map (^2) (filter (>0) xs))\n",
    "prop_s :: [Int] -> Bool\n",
    "prop_s xs = f_complicated xs == f_simplest xs\n",
    "quickCheck prop_s"
   ]
  },
  {
   "cell_type": "markdown",
   "metadata": {},
   "source": [
    "## Composition"
   ]
  },
  {
   "cell_type": "code",
   "execution_count": null,
   "metadata": {},
   "outputs": [],
   "source": [
    "(.) :: (b -> c) -> (a -> b) -> (a -> c)\n",
    "-- Ususal version\n",
    "(.) f g x = f(g x)\n",
    "-- Infix notation\n",
    "(f . g) x  =  f (g x)"
   ]
  },
  {
   "cell_type": "code",
   "execution_count": null,
   "metadata": {},
   "outputs": [],
   "source": [
    "((>0).(^2)) 0"
   ]
  },
  {
   "cell_type": "markdown",
   "metadata": {},
   "source": [
    "# Thinking Functionally"
   ]
  },
  {
   "cell_type": "markdown",
   "metadata": {},
   "source": [
    "##### Boring version"
   ]
  },
  {
   "cell_type": "code",
   "execution_count": null,
   "metadata": {},
   "outputs": [],
   "source": [
    "f :: [Int] -> Int\n",
    "f xs  =  foldr (+) 0 (map (^ 2) (filter (> 0) xs))"
   ]
  },
  {
   "cell_type": "markdown",
   "metadata": {},
   "source": [
    "##### Examples of why we learn Haskell \n",
    "Lambda expressions and binding constructs"
   ]
  },
  {
   "cell_type": "code",
   "execution_count": null,
   "metadata": {},
   "outputs": [],
   "source": [
    "f :: [Int] -> Int\n",
    "f = foldr (+) 0 . map (^2) . filter (>0)"
   ]
  },
  {
   "cell_type": "code",
   "execution_count": null,
   "metadata": {},
   "outputs": [],
   "source": [
    "(\\f -> f 2) (\\x -> ((\\y -> x+y*y) (x+1)))"
   ]
  },
  {
   "cell_type": "markdown",
   "metadata": {},
   "source": [
    "is the same as"
   ]
  },
  {
   "cell_type": "code",
   "execution_count": null,
   "metadata": {},
   "outputs": [],
   "source": [
    "f2 = f 2 where\n",
    "    f x = x*x + y where\n",
    "        y = x + 1\n",
    "f2"
   ]
  },
  {
   "cell_type": "markdown",
   "metadata": {},
   "source": [
    "## Testing properties"
   ]
  },
  {
   "cell_type": "code",
   "execution_count": null,
   "metadata": {},
   "outputs": [],
   "source": [
    "import Test.QuickCheck\n",
    "prop_sum :: Int -> Property\n",
    "prop_sum n  =  n >= 0 ==>  sum [1..n]  ==  (*) n (n+1) `div` 2\n",
    "quickCheck prop_sum "
   ]
  },
  {
   "cell_type": "markdown",
   "metadata": {},
   "source": [
    "## Function application with `$`\n",
    "\n",
    "### Definition\n",
    " `f $ x` = `f x`  \n",
    " `f $ g $ h x` = `f (g (h x))` \n",
    "\n",
    "### Precedence\n",
    "\n",
    "function `($)` has the lowest precedence  \n",
    "`f a b c` is the same as `((f a) b) c))`\n",
    "while  \n",
    "`f $ a b` is `f(a(b))`"
   ]
  },
  {
   "cell_type": "code",
   "execution_count": null,
   "metadata": {},
   "outputs": [],
   "source": [
    "filter (\\x -> x `mod` 2 == 1) $ map (^2) [1..10]\n",
    "filter (\\x -> x `mod` 2 == 1) . map (^2) $ [1..10]"
   ]
  },
  {
   "cell_type": "markdown",
   "metadata": {},
   "source": [
    "## Finding a definition"
   ]
  },
  {
   "cell_type": "code",
   "execution_count": null,
   "metadata": {},
   "outputs": [],
   "source": [
    ":d ($)\n",
    ":d takeWhile"
   ]
  },
  {
   "cell_type": "markdown",
   "metadata": {},
   "source": [
    "### Take while"
   ]
  },
  {
   "cell_type": "code",
   "execution_count": null,
   "metadata": {},
   "outputs": [],
   "source": [
    "takeWhile (\\x -> x `mod` 2 == 0 || x < 8) [1..]"
   ]
  },
  {
   "cell_type": "markdown",
   "metadata": {},
   "source": [
    "### Implication, Bi-Implication, Reverse Implication\n",
    "It seems that there are no built-in operators"
   ]
  },
  {
   "cell_type": "markdown",
   "metadata": {},
   "source": [
    "## ZipWith, Uncurry"
   ]
  },
  {
   "cell_type": "markdown",
   "metadata": {},
   "source": [
    "`zipWith::(a → b → c) → [a] → [b] → [c]`   \n",
    "`zipWith` generalises `zip` by zipping with the function given as the first argument, instead of a tupling function. For example, `zipWith (+)` is applied to two lists to produce the list of corresponding sums"
   ]
  },
  {
   "cell_type": "markdown",
   "metadata": {},
   "source": [
    "`uncurry ∷ (a → b → c) → ((a, b) → c`  \n",
    "_uncurry converts a curried function to a function on pairs._"
   ]
  },
  {
   "cell_type": "markdown",
   "metadata": {},
   "source": [
    "## Case of"
   ]
  },
  {
   "cell_type": "code",
   "execution_count": 9,
   "metadata": {},
   "outputs": [],
   "source": [
    "head' :: [a] -> a  \n",
    "head' xs = case xs of [] -> error \"No head for empty lists!\"  \n",
    "                      (x:_) -> x  "
   ]
  },
  {
   "cell_type": "code",
   "execution_count": 11,
   "metadata": {},
   "outputs": [
    {
     "data": {
      "text/plain": [
       "\"HurrayHurray\""
      ]
     },
     "metadata": {},
     "output_type": "display_data"
    }
   ],
   "source": [
    "case [3] of [] -> \"Hurray\"\n",
    "            (x:xs) -> \"HurrayHurray\"\n",
    "            _ -> \"Sad\""
   ]
  },
  {
   "cell_type": "markdown",
   "metadata": {},
   "source": [
    "## Elem, Replicate, dropWhile"
   ]
  },
  {
   "cell_type": "code",
   "execution_count": null,
   "metadata": {},
   "outputs": [],
   "source": [
    "elem 3 [1,2,3]"
   ]
  },
  {
   "cell_type": "code",
   "execution_count": null,
   "metadata": {},
   "outputs": [],
   "source": [
    "dropWhile (=='C') $ replicate 5 'C' ++ \"A\" ++ replicate 5 'T'"
   ]
  },
  {
   "cell_type": "markdown",
   "metadata": {},
   "source": [
    "## Algebraic data types"
   ]
  },
  {
   "cell_type": "code",
   "execution_count": null,
   "metadata": {},
   "outputs": [],
   "source": [
    "data List a  =  Nil\n",
    "            |  Cons a (List a)\n",
    "append :: List a -> List a -> List a\n",
    "append Nil ys          =  ys\n",
    "append (Cons x xs) ys  =  Cons x (append xs ys)"
   ]
  },
  {
   "cell_type": "markdown",
   "metadata": {},
   "source": [
    "#### Algebraic data types with parameters (which are types)"
   ]
  },
  {
   "cell_type": "code",
   "execution_count": null,
   "metadata": {},
   "outputs": [],
   "source": [
    "data Stree a = Tip a | Node (Stree a) a (Stree a)\n",
    "etree = Node (Node (Node (Tip 3) 1 (Tip 4)) 3 (Node (Tip 2) 4 (Tip 2))) 5 (Node (Tip 2) 7 (Tip 2))\n",
    "\n",
    "sumLeafs :: (Stree Int) -> Int\n",
    "sumLeafs (Node a _ b) = sumLeafs a + sumLeafs b\n",
    "sumLeafs (Tip x) = x\n",
    "\n",
    "sumLeafs etree"
   ]
  },
  {
   "cell_type": "markdown",
   "metadata": {},
   "source": [
    "## All and And"
   ]
  },
  {
   "cell_type": "code",
   "execution_count": null,
   "metadata": {},
   "outputs": [],
   "source": [
    "all (==7) [7,7,7,7,7,1,7,7,7]\n",
    "all (==7) [7,7,7,7,7]"
   ]
  },
  {
   "cell_type": "code",
   "execution_count": null,
   "metadata": {},
   "outputs": [],
   "source": [
    "and [x `mod` 2 == 0 | x <- [1..100]]\n",
    "and [(x*2+1) `mod` 2 == 1 | x <- [1..100]]"
   ]
  },
  {
   "cell_type": "markdown",
   "metadata": {},
   "source": [
    "## Dot product"
   ]
  },
  {
   "cell_type": "code",
   "execution_count": null,
   "metadata": {},
   "outputs": [],
   "source": [
    "dot :: Num a => [a] -> [a] -> a\n",
    "dot = curry $ sum . (uncurry (zipWith (*)))"
   ]
  },
  {
   "cell_type": "markdown",
   "metadata": {},
   "source": [
    "## Expression trees\n",
    "### Evaluating expressions"
   ]
  },
  {
   "cell_type": "code",
   "execution_count": null,
   "metadata": {},
   "outputs": [],
   "source": [
    "data Exp  =  Lit Int\n",
    "          |  Add Exp Exp\n",
    "          |  Mul Exp Exp\n",
    "\n",
    "evalExp :: Exp -> Int\n",
    "evalExp (Lit n)    =  n\n",
    "evalExp (Add e f)  =  evalExp e + evalExp f\n",
    "evalExp (Mul e f)  =  evalExp e * evalExp f\n",
    "\n",
    "showExp :: Exp -> String\n",
    "showExp (Lit n)    =  show n\n",
    "showExp (Add e f)  =  par (showExp e ++ \"+\" ++ showExp f)\n",
    "showExp (Mul e f)  =  par (showExp e ++ \"*\" ++ showExp f)\n",
    "\n",
    "par :: String -> String\n",
    "par s  =  \"(\" ++ s ++ \")\""
   ]
  },
  {
   "cell_type": "code",
   "execution_count": null,
   "metadata": {},
   "outputs": [],
   "source": [
    "e0, e1 :: Exp\n",
    "e0 = Add (Lit 2) (Mul (Lit 3) (Lit 3))\n",
    "e0_infix = (Lit 2) `Add` ((Lit 3) `Mul` (Lit 3))\n",
    "e1 = Mul (Add (Lit 2) (Lit 3)) (Lit 3)\n",
    "\n",
    "test_Exp :: Bool\n",
    "test_Exp =\n",
    "      showExp e0 == \"(2+(3*3))\"\n",
    "  &&  evalExp e0 == 11\n",
    "  &&  showExp e1 == \"((2+3)*3)\"\n",
    "  &&  evalExp e1 == 15\n",
    "  &&  showExp e0_infix == showExp e0\n",
    "  &&  evalExp e0_infix == evalExp e0\n",
    "  \n",
    "test_Exp"
   ]
  },
  {
   "cell_type": "markdown",
   "metadata": {},
   "source": [
    "### Subsets"
   ]
  },
  {
   "cell_type": "code",
   "execution_count": null,
   "metadata": {},
   "outputs": [],
   "source": [
    "subs :: [a] -> [[a]]\n",
    "subs []      =  [[]]\n",
    "subs (x:xs)  =  subs xs ++ [ x:ys | ys <- subs xs ]\n",
    "subs (x:xs)  =  subs xs ++ map (x:) (subs xs)\n",
    "\n",
    "subs \"abcd\""
   ]
  },
  {
   "cell_type": "markdown",
   "metadata": {},
   "source": [
    "### Using colon infix notation"
   ]
  },
  {
   "cell_type": "code",
   "execution_count": null,
   "metadata": {},
   "outputs": [],
   "source": [
    "data Exp  =  Lit Int\n",
    "          |  Exp :+: Exp\n",
    "          |  Exp :*: Exp\n",
    "\n",
    "evalExp :: Exp -> Int\n",
    "evalExp (Lit n)    =  n\n",
    "evalExp (e :+: f)  =  evalExp e + evalExp f\n",
    "evalExp (e :*: f)  =  evalExp e * evalExp f\n",
    "\n",
    "evalExp $ Lit 2 :+: Lit 3\n",
    "evalExp $ Lit 2 :*: Lit 3\n",
    "\n",
    "-- Just the colon at the beginning is essential"
   ]
  },
  {
   "cell_type": "markdown",
   "metadata": {},
   "source": [
    "### Logical propositions"
   ]
  },
  {
   "cell_type": "code",
   "execution_count": null,
   "metadata": {},
   "outputs": [],
   "source": [
    "type Name = String\n",
    "\n",
    "-- using Prp rather than Prop to avoid conflict with Prop in QuickCheck\n",
    "data Prp = Var Name\n",
    "          | F\n",
    "          | T\n",
    "          | Not Prp\n",
    "          | Prp :|: Prp\n",
    "          | Prp :&: Prp\n",
    "          deriving (Eq, Ord, Show)\n",
    "\n",
    "type Names = [Name]\n",
    "type Env = [(Name,Bool)]"
   ]
  },
  {
   "cell_type": "markdown",
   "metadata": {},
   "source": [
    "## Removing duplicates"
   ]
  },
  {
   "cell_type": "code",
   "execution_count": 29,
   "metadata": {},
   "outputs": [
    {
     "data": {
      "text/plain": [
       "[1,2,3,4,12]"
      ]
     },
     "metadata": {},
     "output_type": "display_data"
    }
   ],
   "source": [
    "import Data.List\n",
    "nub [1,2,3,4,1,2,12]"
   ]
  },
  {
   "cell_type": "markdown",
   "metadata": {},
   "source": [
    "## Kinds and some type-foo"
   ]
  },
  {
   "cell_type": "code",
   "execution_count": 14,
   "metadata": {},
   "outputs": [
    {
     "data": {
      "text/plain": [
       "55"
      ]
     },
     "metadata": {},
     "output_type": "display_data"
    }
   ],
   "source": [
    "sum [1..10]"
   ]
  },
  {
   "cell_type": "code",
   "execution_count": 26,
   "metadata": {},
   "outputs": [
    {
     "data": {
      "text/plain": [
       "\"7\""
      ]
     },
     "metadata": {},
     "output_type": "display_data"
    },
    {
     "data": {
      "text/plain": [
       "\"abc\""
      ]
     },
     "metadata": {},
     "output_type": "display_data"
    },
    {
     "data": {
      "text/plain": [
       "6"
      ]
     },
     "metadata": {},
     "output_type": "display_data"
    },
    {
     "data": {
      "text/plain": [
       "4"
      ]
     },
     "metadata": {},
     "output_type": "display_data"
    },
    {
     "data": {
      "text/html": [
       "<style>/* Styles used for the Hoogle display in the pager */\n",
       ".hoogle-doc {\n",
       "display: block;\n",
       "padding-bottom: 1.3em;\n",
       "padding-left: 0.4em;\n",
       "}\n",
       ".hoogle-code {\n",
       "display: block;\n",
       "font-family: monospace;\n",
       "white-space: pre;\n",
       "}\n",
       ".hoogle-text {\n",
       "display: block;\n",
       "}\n",
       ".hoogle-name {\n",
       "color: green;\n",
       "font-weight: bold;\n",
       "}\n",
       ".hoogle-head {\n",
       "font-weight: bold;\n",
       "}\n",
       ".hoogle-sub {\n",
       "display: block;\n",
       "margin-left: 0.4em;\n",
       "}\n",
       ".hoogle-package {\n",
       "font-weight: bold;\n",
       "font-style: italic;\n",
       "}\n",
       ".hoogle-module {\n",
       "font-weight: bold;\n",
       "}\n",
       ".hoogle-class {\n",
       "font-weight: bold;\n",
       "}\n",
       ".get-type {\n",
       "color: green;\n",
       "font-weight: bold;\n",
       "font-family: monospace;\n",
       "display: block;\n",
       "white-space: pre-wrap;\n",
       "}\n",
       ".show-type {\n",
       "color: green;\n",
       "font-weight: bold;\n",
       "font-family: monospace;\n",
       "margin-left: 1em;\n",
       "}\n",
       ".mono {\n",
       "font-family: monospace;\n",
       "display: block;\n",
       "}\n",
       ".err-msg {\n",
       "color: red;\n",
       "font-style: italic;\n",
       "font-family: monospace;\n",
       "white-space: pre;\n",
       "display: block;\n",
       "}\n",
       "#unshowable {\n",
       "color: red;\n",
       "font-weight: bold;\n",
       "}\n",
       ".err-msg.in.collapse {\n",
       "padding-top: 0.7em;\n",
       "}\n",
       ".highlight-code {\n",
       "white-space: pre;\n",
       "font-family: monospace;\n",
       "}\n",
       ".suggestion-warning { \n",
       "font-weight: bold;\n",
       "color: rgb(200, 130, 0);\n",
       "}\n",
       ".suggestion-error { \n",
       "font-weight: bold;\n",
       "color: red;\n",
       "}\n",
       ".suggestion-name {\n",
       "font-weight: bold;\n",
       "}\n",
       "</style><span class='get-type'>Left :: forall a b. a -> Either a b</span>"
      ],
      "text/plain": [
       "Left :: forall a b. a -> Either a b"
      ]
     },
     "metadata": {},
     "output_type": "display_data"
    }
   ],
   "source": [
    "print_sth :: (Either Int String) -> String\n",
    "print_sth (Left x) = show x\n",
    "print_sth (Right x) = x\n",
    "\n",
    "print_sth (Left 7)\n",
    "print_sth (Right \"abc\")\n",
    "\n",
    "do_sth :: (Either Int String) -> Int\n",
    "do_sth (Left x) = x+1\n",
    "do_sth (Right x) = (length x) + 1\n",
    "\n",
    "do_sth $ Left 5\n",
    "do_sth $ Right \"abc\"\n",
    "\n",
    ":t Left"
   ]
  },
  {
   "cell_type": "code",
   "execution_count": null,
   "metadata": {},
   "outputs": [],
   "source": []
  }
 ],
 "metadata": {
  "kernelspec": {
   "display_name": "Haskell",
   "language": "haskell",
   "name": "haskell"
  },
  "language_info": {
   "codemirror_mode": "ihaskell",
   "file_extension": ".hs",
   "name": "haskell",
   "pygments_lexer": "Haskell",
   "version": "8.2.2"
  }
 },
 "nbformat": 4,
 "nbformat_minor": 2
}
